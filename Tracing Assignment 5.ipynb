{
 "cells": [
  {
   "cell_type": "code",
   "execution_count": 13,
   "metadata": {},
   "outputs": [
    {
     "name": "stdout",
     "output_type": "stream",
     "text": [
      "False\n",
      "False\n",
      "False\n",
      "False\n",
      "False\n",
      "True\n",
      "False\n",
      "False\n",
      "False\n",
      "True\n"
     ]
    }
   ],
   "source": [
    "var1=False\n",
    "var2=False\n",
    "var3=False\n",
    "var4=False\n",
    "result1 = (var1 or var2) and (8 * 10 > 45)\n",
    "print(result1)\n",
    "result2= (var1 or var2) and (result1 and False)\n",
    "print(result2)\n",
    "result3 = (var1 and result1) or result2\n",
    "print(result3)\n",
    "result4=(var1 or var2) or ((var3 and var1) and False)\n",
    "print(result4)\n",
    "result5 = (var1 and var2) and (result3 or var1)\n",
    "print(result5)\n",
    "result6 = ((var3 or var2) and not result5) or True\n",
    "print(result6)\n",
    "result7 = (var4 and result1) and ((result1 and False) or True)\n",
    "print(result7)\n",
    "result8 = ((var1 and result3) and (var5 or var6)) and True\n",
    "print(result8)\n",
    "result9 = ((result2 and var2) or (result7 and var1)) and False\n",
    "print(result9)\n",
    "result10 = not(var1 and True)\n",
    "print(result10)"
   ]
  },
  {
   "cell_type": "code",
   "execution_count": 14,
   "metadata": {},
   "outputs": [
    {
     "name": "stdout",
     "output_type": "stream",
     "text": [
      "False False True False False True False False False True\n"
     ]
    }
   ],
   "source": [
    "var1 = False\n",
    "var2 = False\n",
    "var3 = False\n",
    "var4 = False\n",
    "var5 = False\n",
    "var6 = False\n",
    "result1 = False\n",
    "result2 = False\n",
    "result3 = False\n",
    "result4 = False\n",
    "result5 = False\n",
    "result6 = False\n",
    "result7 = False\n",
    "result8 = False\n",
    "result9 = False\n",
    "result10 = False\n",
    "var1 = ((not True) or True) and False\n",
    "var2 = var1 and False\n",
    "var3 = True and not False\n",
    "var4 = False\n",
    "var5 = True\n",
    "var6 = var3 and False\n",
    "result1 = (var1 and var2) and (40 % 3) > 45 or (var5 and var6)\n",
    "result2 = (var1 or var2) or (result1 and False)\n",
    "result3 = (var1 and result1) or result2 or var5\n",
    "result4 = (var1 or var2) or ((var3 and var1) and False)\n",
    "result5 = (var1 and var2) and (result3 or var1)\n",
    "result6 = ((var3 or (not var2)) and (result5)) or True\n",
    "result7 = (var4 and result1) and ((result1 and False) or True)\n",
    "result8 = ((var1 and result3) and ((not var5) or var6)) and True\n",
    "result9 = ((result2 and var2) or ((not result7) and var1)) and not False\n",
    "result10 = not(var1 and True)\n",
    "\n",
    "\n",
    "print(result1, \n",
    "result2, \n",
    "result3 ,\n",
    "result4 ,\n",
    "result5 ,\n",
    "result6 ,\n",
    "result7 ,\n",
    "result8,\n",
    "result9 ,\n",
    "result10 )"
   ]
  }
 ],
 "metadata": {
  "kernelspec": {
   "display_name": "Python 3",
   "language": "python",
   "name": "python3"
  },
  "language_info": {
   "codemirror_mode": {
    "name": "ipython",
    "version": 3
   },
   "file_extension": ".py",
   "mimetype": "text/x-python",
   "name": "python",
   "nbconvert_exporter": "python",
   "pygments_lexer": "ipython3",
   "version": "3.6.4"
  }
 },
 "nbformat": 4,
 "nbformat_minor": 2
}
