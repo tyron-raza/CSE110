{
 "cells": [
  {
   "cell_type": "markdown",
   "metadata": {},
   "source": [
    "Task 1"
   ]
  },
  {
   "cell_type": "code",
   "execution_count": 12,
   "metadata": {},
   "outputs": [
    {
     "name": "stdout",
     "output_type": "stream",
     "text": [
      "Before Sorting: [10, 1, 20, 3, 6, 2, 5, 11, 15, 2, 12, 14, 17, 18, 29]\n",
      "After Sorting: [1, 2, 2, 3, 5, 6, 10, 11, 12, 14, 15, 17, 18, 20, 29]\n"
     ]
    }
   ],
   "source": [
    "my_list = [10, 1, 20, 3, 6, 2, 5, 11, 15, 2, 12, 14, 17, 18, 29]\n",
    "print(\"Before Sorting:\", my_list)\n",
    "\n",
    "for i1 in range(0, len(my_list)-1):\n",
    "    for i2 in range(0, len(my_list)-i1-1):\n",
    "        if (my_list[i2] > my_list[i2 + 1]):\n",
    "            temp = my_list[i2]\n",
    "            my_list[i2] = my_list[i2 + 1]\n",
    "            my_list[i2 + 1] = temp\n",
    "\n",
    "print(\"After Sorting:\", my_list)"
   ]
  },
  {
   "cell_type": "markdown",
   "metadata": {},
   "source": [
    "Task 2"
   ]
  },
  {
   "cell_type": "code",
   "execution_count": 11,
   "metadata": {},
   "outputs": [
    {
     "name": "stdout",
     "output_type": "stream",
     "text": [
      "Before Sorting: [10, 1, 20, 3, 6, 2, 5, 11, 15, 2, 12, 14, 17, 18, 29]\n",
      "After Sorting: [1, 2, 2, 3, 5, 6, 10, 11, 12, 14, 15, 17, 18, 20, 29]\n"
     ]
    }
   ],
   "source": [
    "my_list= [10, 1, 20, 3, 6, 2, 5, 11, 15, 2, 12, 14, 17, 18, 29]\n",
    "print(\"Before Sorting:\", my_list)\n",
    "\n",
    "for i1 in range(0, len(my_list)-1): \n",
    "    min_val = my_list[i1]\n",
    "    min_index = i1\n",
    "   \n",
    "    for i2 in range(i1+1, len(my_list)):\n",
    "         if my_list[i2] < min_val:\n",
    "                min_val = my_list[i2]\n",
    "                min_index = i2\n",
    "    temp =  min_val\n",
    "    my_list[min_index] =  my_list[i1]\n",
    "    my_list[i1] = temp\n",
    "\n",
    "print(\"After Sorting:\", my_list)"
   ]
  },
  {
   "cell_type": "markdown",
   "metadata": {},
   "source": [
    "Task 3"
   ]
  },
  {
   "cell_type": "code",
   "execution_count": 10,
   "metadata": {},
   "outputs": [
    {
     "name": "stdout",
     "output_type": "stream",
     "text": [
      "Before Sorting: [10, 1, 20, 3, 6, 2, 5, 11, 15, 2, 12, 14, 17, 18, 29]\n",
      "After Sorting: [29, 20, 18, 17, 15, 14, 12, 11, 10, 6, 5, 3, 2, 2, 1]\n"
     ]
    }
   ],
   "source": [
    "my_list = [10, 1, 20, 3, 6, 2, 5, 11, 15, 2, 12, 14, 17, 18, 29]\n",
    "print(\"Before Sorting:\", my_list)\n",
    "\n",
    "for i1 in range(0, len(my_list)-1): \n",
    "    min_val = my_list[i1]\n",
    "    min_index = i1\n",
    "   \n",
    "    for i2 in range(i1+1, len(my_list)):\n",
    "         if my_list[i2] > min_val:\n",
    "                min_val = my_list[i2]\n",
    "                min_index = i2\n",
    "    temp =  min_val\n",
    "    my_list[min_index] =  my_list[i1]\n",
    "    my_list[i1] = temp\n",
    "\n",
    "print(\"After Sorting:\", my_list)"
   ]
  },
  {
   "cell_type": "markdown",
   "metadata": {},
   "source": [
    "Task 4"
   ]
  },
  {
   "cell_type": "code",
   "execution_count": 1,
   "metadata": {},
   "outputs": [
    {
     "name": "stdout",
     "output_type": "stream",
     "text": [
      "Before Sorting: [10, 30, 20, 70, 11, 15, 22, 16, 58, 100, 12, 56, 70, 80]\n",
      "After Sorting: [10, 100, 11, 80, 12, 70, 15, 70, 16, 58, 20, 56, 22, 30]\n"
     ]
    }
   ],
   "source": [
    "my_list = [10,30,20,70,11,15,22,16,58,100,12,56,70,80]\n",
    "print(\"Before Sorting:\", my_list)\n",
    "\n",
    "for i1 in range(0, len(my_list)-1): \n",
    "    min_val = my_list[i1]\n",
    "    min_index = i1\n",
    "    \n",
    "    if i1%2==0:\n",
    "        for i2 in range(i1+1, len(my_list)):\n",
    "             if my_list[i2] < min_val:\n",
    "                    min_val = my_list[i2]\n",
    "                    min_index = i2\n",
    "    elif i1%2!=0:\n",
    "        for i2 in range(i1+1, len(my_list)):\n",
    "             if my_list[i2] > min_val:\n",
    "                    min_val = my_list[i2]\n",
    "                    min_index = i2\n",
    "    temp =  min_val\n",
    "    my_list[min_index] =  my_list[i1]\n",
    "    my_list[i1] = temp\n",
    "\n",
    "print(\"After Sorting:\", my_list)"
   ]
  },
  {
   "cell_type": "markdown",
   "metadata": {},
   "source": [
    "Task 5"
   ]
  },
  {
   "cell_type": "code",
   "execution_count": 9,
   "metadata": {},
   "outputs": [
    {
     "name": "stdout",
     "output_type": "stream",
     "text": [
      "CSE110\n",
      "Alan\n",
      "Turing\n",
      "Elon\n",
      "Musk\n"
     ]
    }
   ],
   "source": [
    "def sort(my_list):\n",
    "\n",
    "    for i1 in range(0, len(my_list)-1):\n",
    "        for i2 in range(0, len(my_list)-i1-1):\n",
    "            if (my_list[i2] > my_list[i2 + 1]):\n",
    "                temp = my_list[i2]\n",
    "                my_list[i2] = my_list[i2 + 1]\n",
    "                my_list[i2 + 1] = temp \n",
    "\n",
    "course= input()\n",
    "lst = [ [\"Alan\", 95, 87, 91], [\"Turing\", 92, 90, 83], [\"Elon\", 87, 92, 80], [\"Musk\", 85, 94, 90] ]\n",
    "if course==\"CSE110\":\n",
    "    my_list=[]\n",
    "    for i in range(len(lst)):\n",
    "        numbers= lst[i][1]\n",
    "        my_list.append(numbers)\n",
    "    sort(my_list)\n",
    "    studentlist=[]   \n",
    "    for i in my_list:\n",
    "        for j in lst:\n",
    "            if i==j[1]:\n",
    "                studentlist.append(j[0])\n",
    "if course==\"PHY111\":\n",
    "    my_list=[]\n",
    "    for i in range(len(lst)):\n",
    "        numbers=lst[i][2]\n",
    "        my_list.append(numbers)\n",
    "    sort(my_list)\n",
    "    studentlist=[]   \n",
    "    for i in my_list:\n",
    "        for j in lst:\n",
    "            if i==j[2]:\n",
    "                studentlist.append(j[0])\n",
    "    \n",
    "if course==\"MAT110\":\n",
    "    my_list=[]\n",
    "    for i in range(len(lst)):\n",
    "        numbers=lst[i][3]\n",
    "        my_list.append(numbers)\n",
    "    sort(my_list)\n",
    "    studentlist=[]   \n",
    "    for i in my_list:\n",
    "        for j in lst:\n",
    "            if i==j[3]:\n",
    "                studentlist.append(j[0])\n",
    "     \n",
    "for i in range(len(studentlist)-1, -1, -1):\n",
    "    print(studentlist[i])"
   ]
  },
  {
   "cell_type": "markdown",
   "metadata": {},
   "source": [
    "Task 6"
   ]
  },
  {
   "cell_type": "code",
   "execution_count": 2,
   "metadata": {},
   "outputs": [
    {
     "name": "stdout",
     "output_type": "stream",
     "text": [
      "Before Sorting: [4, 2, 3, 1, 6, 5]\n",
      "After Sorting: [1, 2, 3, 4, 5, 6]\n",
      "4\n"
     ]
    }
   ],
   "source": [
    "my_list0 = [4, 2, 3, 1, 6, 5]\n",
    "my_list= my_list0.copy()\n",
    "\n",
    "print(\"Before Sorting:\", my_list)\n",
    "\n",
    "for i1 in range(0, len(my_list)-1):\n",
    "    for i2 in range(0, len(my_list)-i1-1):\n",
    "        if (my_list[i2] > my_list[i2 + 1]):\n",
    "            temp = my_list[i2]\n",
    "            my_list[i2] = my_list[i2 + 1]\n",
    "            my_list[i2 + 1] = temp\n",
    "\n",
    "print(\"After Sorting:\", my_list)\n",
    "\n",
    "counter=0\n",
    "for i in range(len(my_list)):\n",
    "        if my_list[i]!=my_list0[i]:\n",
    "            \n",
    "            counter+=1\n",
    "print(counter)"
   ]
  },
  {
   "cell_type": "markdown",
   "metadata": {},
   "source": [
    "Task 7"
   ]
  },
  {
   "cell_type": "code",
   "execution_count": 4,
   "metadata": {},
   "outputs": [
    {
     "name": "stdout",
     "output_type": "stream",
     "text": [
      "[1, 7, 9, 10]\n",
      "[2, 7, 6, 5]\n",
      "Sorted list: [1, 2, 5, 6, 7, 7, 9, 10]\n",
      "Median = 6.5\n"
     ]
    }
   ],
   "source": [
    "def sort(my_list):\n",
    "\n",
    "    for i1 in range(0, len(my_list)-1):\n",
    "        for i2 in range(0, len(my_list)-i1-1):\n",
    "            if (my_list[i2] > my_list[i2 + 1]):\n",
    "                temp = my_list[i2]\n",
    "                my_list[i2] = my_list[i2 + 1]\n",
    "                my_list[i2 + 1] = temp \n",
    "a = input()\n",
    "list1= [int(i) for i in a[1:-1].split(\",\")]\n",
    "b = input()\n",
    "list2= [int(i) for i in b[1:-1].split(\",\")]\n",
    "\n",
    "for i in list2:\n",
    "    list1.append(i)\n",
    "    \n",
    "sort(list1)\n",
    "print(\"Sorted list:\", list1)\n",
    "median=0\n",
    "if len(list1)%2==0:\n",
    "    median= (list1[((len(list1))//2)-1]+list1[(len(list1)//2)])/2\n",
    "else:\n",
    "    median= list1[((len(list1)+1)//2)-1]\n",
    "print(\"Median =\", median)\n"
   ]
  },
  {
   "cell_type": "markdown",
   "metadata": {},
   "source": [
    "Task 8"
   ]
  },
  {
   "cell_type": "code",
   "execution_count": 8,
   "metadata": {},
   "outputs": [
    {
     "name": "stdout",
     "output_type": "stream",
     "text": [
      "[1, -8, 4, -7, -20, 26, 70, -85]\n",
      "Two pairs which have the smallest sum 4 and  -7\n"
     ]
    }
   ],
   "source": [
    "a = input()\n",
    "list1= [int(i) for i in a[1:-1].split(\",\")]\n",
    "def min_pair(list1):\n",
    "    min0 = 0\n",
    "    min1 = 1\n",
    "    min_sum = list1[0] + list1[1]\n",
    "    for i in range (0, len(list1)- 1):\n",
    "        for j in range (i + 1, len(list1)):\n",
    "            sum = list1[i] + list1[j]                \n",
    "            if abs(min_sum) > abs(sum):        \n",
    "                min_sum = sum\n",
    "                min0 = i\n",
    "                min1 = j\n",
    " \n",
    "    print(\"Two pairs which have the smallest sum\", list1[min0], \"and \", list1[min1])\n",
    " \n",
    " \n",
    "min_pair(list1)\n"
   ]
  },
  {
   "cell_type": "markdown",
   "metadata": {},
   "source": [
    "Task 9"
   ]
  },
  {
   "cell_type": "code",
   "execution_count": 20,
   "metadata": {},
   "outputs": [
    {
     "name": "stdout",
     "output_type": "stream",
     "text": [
      "The minimum distance: 1.4142135623730951\n",
      "Here the closest point is (1, 1)  which has a distance of 1.4142135623730951 from the origin\n"
     ]
    }
   ],
   "source": [
    "list1=[(1,7), (4,5), (-1,7), (-2,0), (1,1), (5,-1)]\n",
    "\n",
    "list2=[]\n",
    "# minimum= (x,y)\n",
    "for i in list1:\n",
    "    distance= ((i[0])**2+(i[1])**2)**.5\n",
    "    list2.append(distance)\n",
    "    \n",
    "list3= list2.copy()\n",
    "def sort(my_list):\n",
    "\n",
    "    for i1 in range(0, len(my_list)-1):\n",
    "        for i2 in range(0, len(my_list)-i1-1):\n",
    "            if (my_list[i2] > my_list[i2 + 1]):\n",
    "                temp = my_list[i2]\n",
    "                my_list[i2] = my_list[i2 + 1]\n",
    "                my_list[i2 + 1] = temp     \n",
    "    \n",
    "sort(list3)\n",
    "print(\"The minimum distance:\" , list3[0])\n",
    "\n",
    "for i in list1:\n",
    "    if ((i[0])**2+(i[1])**2)**.5==list3[0]:\n",
    "        print(\"Here the closest point is\" ,i, \" which has a distance of\" ,list3[0], \"from the origin\")\n",
    "            \n",
    "    "
   ]
  }
 ],
 "metadata": {
  "kernelspec": {
   "display_name": "Python 3 (ipykernel)",
   "language": "python",
   "name": "python3"
  },
  "language_info": {
   "codemirror_mode": {
    "name": "ipython",
    "version": 3
   },
   "file_extension": ".py",
   "mimetype": "text/x-python",
   "name": "python",
   "nbconvert_exporter": "python",
   "pygments_lexer": "ipython3",
   "version": "3.9.7"
  }
 },
 "nbformat": 4,
 "nbformat_minor": 2
}
