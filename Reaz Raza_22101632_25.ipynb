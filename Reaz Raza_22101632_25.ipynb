{
 "cells": [
  {
   "cell_type": "code",
   "execution_count": 10,
   "id": "bc668ad9",
   "metadata": {},
   "outputs": [
    {
     "name": "stdout",
     "output_type": "stream",
     "text": [
      "2\n",
      "4\n",
      "6\n",
      "7\n",
      "8\n",
      "9\n",
      "end\n",
      "33 percent zombies\n"
     ]
    }
   ],
   "source": [
    "zombie =0\n",
    "n= \"end\"\n",
    "s=0\n",
    "i=1\n",
    "while i>0:\n",
    "    num = input()\n",
    "    s+=1\n",
    "    if num == \"End\" or num== \"end\":\n",
    "        break\n",
    "    else:\n",
    "        num = int(num)\n",
    "        if num%2!=0:\n",
    "            zombie+=1\n",
    "        continue\n",
    "passengers = s-1 #because we have to remove the \"end\" string\n",
    "print (int((zombie/passengers)*100), \"percent zombies\")\n",
    "        \n",
    "    "
   ]
  }
 ],
 "metadata": {
  "kernelspec": {
   "display_name": "Python 3 (ipykernel)",
   "language": "python",
   "name": "python3"
  },
  "language_info": {
   "codemirror_mode": {
    "name": "ipython",
    "version": 3
   },
   "file_extension": ".py",
   "mimetype": "text/x-python",
   "name": "python",
   "nbconvert_exporter": "python",
   "pygments_lexer": "ipython3",
   "version": "3.9.7"
  }
 },
 "nbformat": 4,
 "nbformat_minor": 5
}
