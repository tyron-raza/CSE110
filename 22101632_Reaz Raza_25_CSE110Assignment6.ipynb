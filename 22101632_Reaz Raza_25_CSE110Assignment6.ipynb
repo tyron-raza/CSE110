{
 "cells": [
  {
   "cell_type": "markdown",
   "metadata": {},
   "source": [
    "Task1 \n"
   ]
  },
  {
   "cell_type": "code",
   "execution_count": null,
   "metadata": {},
   "outputs": [],
   "source": [
    "def evenoddchecker(number):\n",
    "    if number%2==0:\n",
    "        print(\"Even!!\")\n",
    "    else:\n",
    "        print(\"Odd!!\")\n",
    "evenoddchecker(5)\n",
    "evenoddchecker(2)"
   ]
  },
  {
   "cell_type": "markdown",
   "metadata": {},
   "source": [
    "Task 2*\n"
   ]
  },
  {
   "cell_type": "code",
   "execution_count": null,
   "metadata": {},
   "outputs": [],
   "source": [
    "def fibonacci(number):\n",
    "    s=0\n",
    "    sum1=0\n",
    "    t=1\n",
    "    for i in range(number+1):\n",
    "        if s<=number:\n",
    "            print(s, end=\" \")\n",
    "            sum1=s+t\n",
    "            t=s\n",
    "            s=sum1\n",
    "        \n",
    "fibonacci(int(input()))\n",
    "                     "
   ]
  },
  {
   "cell_type": "markdown",
   "metadata": {},
   "source": [
    "Task 3"
   ]
  },
  {
   "cell_type": "code",
   "execution_count": null,
   "metadata": {},
   "outputs": [],
   "source": [
    "def foo_moo(number):\n",
    "    if number%2==0 and number%3==0:\n",
    "        return \"FooMoo\"\n",
    "    if number%2==0:\n",
    "        return \"Foo\"\n",
    "    if number%3==0:\n",
    "        return \"Moo\"\n",
    "    else:\n",
    "        return \"Boo\"\n",
    "    \n",
    "print (foo_moo(int(input())))"
   ]
  },
  {
   "cell_type": "markdown",
   "metadata": {},
   "source": [
    "Task 4"
   ]
  },
  {
   "cell_type": "code",
   "execution_count": null,
   "metadata": {},
   "outputs": [],
   "source": [
    "def casecounter(strinput):\n",
    "    counterA=0\n",
    "    countera=0\n",
    "    for i in strinput:\n",
    "        if ord(i)>=65 and ord(i)<=90:\n",
    "            counterA+=1\n",
    "        elif ord(i)>=97 and ord(i)<=122:\n",
    "             countera+=1\n",
    "    print(\"No. of Uppercase characters :\", counterA)\n",
    "    print(\"No. of Lowercase characters :\", countera)\n",
    "\n",
    "casecounter(input())\n",
    "\n",
    "\n",
    "\n"
   ]
  },
  {
   "cell_type": "markdown",
   "metadata": {},
   "source": [
    "Task 5"
   ]
  },
  {
   "cell_type": "code",
   "execution_count": null,
   "metadata": {},
   "outputs": [],
   "source": [
    "def calculate_tax(age,salary,job):\n",
    "    tax=0\n",
    "    if age<18 or salary<10000 or job==\"president\" or job==\"President\":\n",
    "        return tax\n",
    "    elif salary>=10000 and salary<=20000:\n",
    "        tax=salary*(5/100)\n",
    "        return tax\n",
    "    elif salary>=20000:\n",
    "        tax=salary*(10/100)\n",
    "        return tax\n",
    "age1=int(input())\n",
    "salary1=int(input())\n",
    "job1=input()\n",
    "print(calculate_tax(age1, salary1, job1))"
   ]
  },
  {
   "cell_type": "markdown",
   "metadata": {},
   "source": [
    "Task 6"
   ]
  },
  {
   "cell_type": "code",
   "execution_count": null,
   "metadata": {},
   "outputs": [],
   "source": [
    "def calculate_days(totaldays):\n",
    "    years=totaldays//365\n",
    "    months=(totaldays%365)//30\n",
    "    days=(totaldays%365)%30\n",
    "    print(years, \"years\", months, \"months\", days, \"days\")\n",
    "    \n",
    "calculate_days(int(input()))"
   ]
  },
  {
   "cell_type": "markdown",
   "metadata": {},
   "source": [
    "Task 7"
   ]
  },
  {
   "cell_type": "code",
   "execution_count": null,
   "metadata": {},
   "outputs": [],
   "source": [
    "def show_palindrome(number):\n",
    "    for i in range(1,number+1):\n",
    "        print(i, end=\"\")\n",
    "    for i in range(number-1,0,-1):\n",
    "        print(i, end='')\n",
    "show_palindrome(3)"
   ]
  },
  {
   "cell_type": "markdown",
   "metadata": {},
   "source": [
    "Task 8"
   ]
  },
  {
   "cell_type": "code",
   "execution_count": null,
   "metadata": {},
   "outputs": [],
   "source": [
    "def show_palindromic_triangle(number):\n",
    "    for j in range(1,number+1):\n",
    "        for i in range(j,number+1):\n",
    "              print(\" \",end=\" \")\n",
    "        for i in range(1,j+1):\n",
    "                print(i, end=\" \")\n",
    "        for i in range(j-1,0,-1):\n",
    "                print(i, end=' ')\n",
    "        print()\n",
    "        \n",
    "show_palindromic_triangle(3)"
   ]
  },
  {
   "cell_type": "markdown",
   "metadata": {},
   "source": [
    "Task 9"
   ]
  },
  {
   "cell_type": "code",
   "execution_count": null,
   "metadata": {},
   "outputs": [],
   "source": [
    "import math\n",
    "\n",
    "\n",
    "def area_circumference_generator(radius):\n",
    "    area= math.pi*radius**2\n",
    "    circum=2*math.pi*radius\n",
    "    return area, circum\n",
    "\n",
    "radius= float(input())\n",
    "\n",
    "print(area_circumference_generator(radius))\n",
    "area, circum= area_circumference_generator(radius)\n",
    "\n",
    "\n",
    "print('Area of the circle is', area, 'Circumference of the circle is', circum)\n",
    "    \n"
   ]
  },
  {
   "cell_type": "markdown",
   "metadata": {},
   "source": [
    "Task 10"
   ]
  },
  {
   "cell_type": "code",
   "execution_count": null,
   "metadata": {},
   "outputs": [],
   "source": [
    "def make_square(start, end):\n",
    "    a={}\n",
    "    for i in range(start, end+1):\n",
    "        a[i]=i**2\n",
    "    print(a)\n",
    "        \n",
    "make_square(1,5)\n",
    "\n",
    "    "
   ]
  },
  {
   "cell_type": "markdown",
   "metadata": {},
   "source": [
    "Task 11"
   ]
  },
  {
   "cell_type": "code",
   "execution_count": null,
   "metadata": {},
   "outputs": [],
   "source": [
    "def rem_duplicate(tuple1):\n",
    "    list1=[]\n",
    "    for i in tuple1:\n",
    "        if i not in list1:\n",
    "            list1.append(i)\n",
    "    tuple2= tuple(list1)\n",
    "    print(tuple2)\n",
    "rem_duplicate((\"Hi\", 1, 2, 3, 3, \"Hi\",'a', 'a', [1,2]))\n",
    "\n"
   ]
  },
  {
   "cell_type": "markdown",
   "metadata": {},
   "source": [
    "Task 12"
   ]
  },
  {
   "cell_type": "code",
   "execution_count": null,
   "metadata": {},
   "outputs": [],
   "source": [
    "def list_opt(list1):\n",
    "    list2=[]\n",
    "    for i in list1:\n",
    "        if list2.count(i)>1:\n",
    "            continue\n",
    "        else: \n",
    "            list2.append(i)\n",
    "\n",
    "    print(list2)\n",
    "    counter= len(list1)-len(list2)\n",
    "    print(\"Removed:\", counter)\n",
    "\n",
    "list_opt([10, 10, 15, 15, 20])\n"
   ]
  },
  {
   "cell_type": "markdown",
   "metadata": {},
   "source": [
    "Task 13"
   ]
  },
  {
   "cell_type": "code",
   "execution_count": null,
   "metadata": {},
   "outputs": [],
   "source": [
    "def calculator(sign, num1, num2):\n",
    "    if sign==\"+\":\n",
    "        s=num1+num2\n",
    "    if sign==\"-\":\n",
    "        s=num1-num2\n",
    "    if sign==\"*\":\n",
    "        s=num1*num2\n",
    "    if sign==\"/\":\n",
    "        s=num1/num2\n",
    "    return float(s) \n",
    "sign= input()\n",
    "num1= float(input())\n",
    "num2= float(input())\n",
    "print(calculator(sign, num1, num2))"
   ]
  },
  {
   "cell_type": "markdown",
   "metadata": {},
   "source": [
    "Task 14"
   ]
  },
  {
   "cell_type": "code",
   "execution_count": 4,
   "metadata": {},
   "outputs": [
    {
     "name": "stdout",
     "output_type": "stream",
     "text": [
      "Python is easy to learn. I love python.\n",
      "6\n",
      "Pythonis eay to earn.I lov pythn. sl eo\n"
     ]
    }
   ],
   "source": [
    "def sentence_changer(sentence, position):\n",
    "    list1=[i for i in sentence]\n",
    "    list2=[list1[0]]\n",
    "    \n",
    "    for i in range(1,len(list1)):\n",
    "        if i%position!=0:\n",
    "            list2.append(list1[i])\n",
    "            \n",
    "    for j in range(1, len(list1)):\n",
    "        if j%position==0:\n",
    "             list2.append(list1[j])\n",
    "                \n",
    "    newstr=''\n",
    "    for k in list2:\n",
    "        newstr+=k\n",
    "    print(newstr)\n",
    "            \n",
    "sentence=input()\n",
    "position= int(input())\n",
    "sentence_changer(sentence, position)"
   ]
  },
  {
   "cell_type": "markdown",
   "metadata": {},
   "source": [
    "Task 15"
   ]
  },
  {
   "cell_type": "code",
   "execution_count": 19,
   "metadata": {},
   "outputs": [
    {
     "name": "stdout",
     "output_type": "stream",
     "text": [
      "[\"Rice\", \"Beef\", \"Rice\"]\n",
      "['\"Rice\"', '\"Beef\"', '\"Rice\"']\n",
      "790\n"
     ]
    }
   ],
   "source": [
    "def myshopapp(order_items, Location=\"Dhanmondi\"):\n",
    "    dict1={'\"Rice\"':105, '\"Potato\"':20, '\"Chicken\"':250, '\"Beef\"':510, '\"Oil\"':85}\n",
    "    itemlist= order_items[1:-1].split(\", \")\n",
    "    print(itemlist)\n",
    "    total=0\n",
    "    for i in itemlist:\n",
    "        if i in dict1.keys():\n",
    "            total+=dict1[i]\n",
    "    if Location==\"Dhanmondi\":\n",
    "        total+=30\n",
    "    else:\n",
    "        total+=70\n",
    "    print(total)\n",
    "    \n",
    "myshopapp(input(), \"Mohakhali\")"
   ]
  }
 ],
 "metadata": {
  "kernelspec": {
   "display_name": "Python 3 (ipykernel)",
   "language": "python",
   "name": "python3"
  },
  "language_info": {
   "codemirror_mode": {
    "name": "ipython",
    "version": 3
   },
   "file_extension": ".py",
   "mimetype": "text/x-python",
   "name": "python",
   "nbconvert_exporter": "python",
   "pygments_lexer": "ipython3",
   "version": "3.9.7"
  }
 },
 "nbformat": 4,
 "nbformat_minor": 2
}
